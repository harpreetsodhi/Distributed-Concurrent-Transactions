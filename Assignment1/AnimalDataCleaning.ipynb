{
 "cells": [
  {
   "cell_type": "code",
   "execution_count": 144,
   "metadata": {},
   "outputs": [],
   "source": [
    "import pandas as pd\n",
    "import numpy as np\n",
    "import seaborn as sns"
   ]
  },
  {
   "cell_type": "code",
   "execution_count": 149,
   "metadata": {},
   "outputs": [],
   "source": [
    "animals = pd.read_csv(r'C:\\Users\\Harpreet\\Downloads\\otn_public_data_dump\\otnunit_aat_animals_8dc3_4d15_c278.csv')"
   ]
  },
  {
   "cell_type": "code",
   "execution_count": 150,
   "metadata": {},
   "outputs": [
    {
     "data": {
      "text/html": [
       "<div>\n",
       "<style scoped>\n",
       "    .dataframe tbody tr th:only-of-type {\n",
       "        vertical-align: middle;\n",
       "    }\n",
       "\n",
       "    .dataframe tbody tr th {\n",
       "        vertical-align: top;\n",
       "    }\n",
       "\n",
       "    .dataframe thead th {\n",
       "        text-align: right;\n",
       "    }\n",
       "</style>\n",
       "<table border=\"1\" class=\"dataframe\">\n",
       "  <thead>\n",
       "    <tr style=\"text-align: right;\">\n",
       "      <th></th>\n",
       "      <th>animal_project_reference</th>\n",
       "      <th>datacenter_reference</th>\n",
       "      <th>animal_reference_id</th>\n",
       "      <th>animal_guid</th>\n",
       "      <th>vernacularname</th>\n",
       "      <th>scientificname</th>\n",
       "      <th>aphiaid</th>\n",
       "      <th>tsn</th>\n",
       "      <th>animal_origin</th>\n",
       "      <th>stock</th>\n",
       "      <th>length</th>\n",
       "      <th>length_type</th>\n",
       "      <th>weight</th>\n",
       "      <th>life_stage</th>\n",
       "      <th>age</th>\n",
       "      <th>sex</th>\n",
       "    </tr>\n",
       "  </thead>\n",
       "  <tbody>\n",
       "    <tr>\n",
       "      <th>0</th>\n",
       "      <td>CCS</td>\n",
       "      <td>nep</td>\n",
       "      <td>CCS-42441</td>\n",
       "      <td>nepCCSCCS-42441</td>\n",
       "      <td>Chinook salmon</td>\n",
       "      <td>Oncorhynchus tshawytscha</td>\n",
       "      <td>158075</td>\n",
       "      <td>161980</td>\n",
       "      <td>H</td>\n",
       "      <td>CHILKO</td>\n",
       "      <td>0.107</td>\n",
       "      <td>FORK</td>\n",
       "      <td>0.01215</td>\n",
       "      <td>JUVENILE</td>\n",
       "      <td>1.0</td>\n",
       "      <td>U</td>\n",
       "    </tr>\n",
       "    <tr>\n",
       "      <th>1</th>\n",
       "      <td>CCS</td>\n",
       "      <td>nep</td>\n",
       "      <td>CCS-42437</td>\n",
       "      <td>nepCCSCCS-42437</td>\n",
       "      <td>Chinook salmon</td>\n",
       "      <td>Oncorhynchus tshawytscha</td>\n",
       "      <td>158075</td>\n",
       "      <td>161980</td>\n",
       "      <td>H</td>\n",
       "      <td>CHILKO</td>\n",
       "      <td>0.108</td>\n",
       "      <td>FORK</td>\n",
       "      <td>0.01225</td>\n",
       "      <td>JUVENILE</td>\n",
       "      <td>1.0</td>\n",
       "      <td>U</td>\n",
       "    </tr>\n",
       "    <tr>\n",
       "      <th>2</th>\n",
       "      <td>CCS</td>\n",
       "      <td>nep</td>\n",
       "      <td>CCS-42412</td>\n",
       "      <td>nepCCSCCS-42412</td>\n",
       "      <td>Chinook salmon</td>\n",
       "      <td>Oncorhynchus tshawytscha</td>\n",
       "      <td>158075</td>\n",
       "      <td>161980</td>\n",
       "      <td>H</td>\n",
       "      <td>CHILKO</td>\n",
       "      <td>0.104</td>\n",
       "      <td>FORK</td>\n",
       "      <td>0.01225</td>\n",
       "      <td>JUVENILE</td>\n",
       "      <td>1.0</td>\n",
       "      <td>U</td>\n",
       "    </tr>\n",
       "    <tr>\n",
       "      <th>3</th>\n",
       "      <td>CCS</td>\n",
       "      <td>nep</td>\n",
       "      <td>CCS-42421</td>\n",
       "      <td>nepCCSCCS-42421</td>\n",
       "      <td>Chinook salmon</td>\n",
       "      <td>Oncorhynchus tshawytscha</td>\n",
       "      <td>158075</td>\n",
       "      <td>161980</td>\n",
       "      <td>H</td>\n",
       "      <td>CHILKO</td>\n",
       "      <td>0.109</td>\n",
       "      <td>FORK</td>\n",
       "      <td>0.01226</td>\n",
       "      <td>JUVENILE</td>\n",
       "      <td>1.0</td>\n",
       "      <td>U</td>\n",
       "    </tr>\n",
       "    <tr>\n",
       "      <th>4</th>\n",
       "      <td>CCS</td>\n",
       "      <td>nep</td>\n",
       "      <td>CCS-42414</td>\n",
       "      <td>nepCCSCCS-42414</td>\n",
       "      <td>Chinook salmon</td>\n",
       "      <td>Oncorhynchus tshawytscha</td>\n",
       "      <td>158075</td>\n",
       "      <td>161980</td>\n",
       "      <td>H</td>\n",
       "      <td>CHILKO</td>\n",
       "      <td>0.107</td>\n",
       "      <td>FORK</td>\n",
       "      <td>0.01238</td>\n",
       "      <td>JUVENILE</td>\n",
       "      <td>1.0</td>\n",
       "      <td>U</td>\n",
       "    </tr>\n",
       "  </tbody>\n",
       "</table>\n",
       "</div>"
      ],
      "text/plain": [
       "  animal_project_reference datacenter_reference animal_reference_id  \\\n",
       "0                      CCS                  nep           CCS-42441   \n",
       "1                      CCS                  nep           CCS-42437   \n",
       "2                      CCS                  nep           CCS-42412   \n",
       "3                      CCS                  nep           CCS-42421   \n",
       "4                      CCS                  nep           CCS-42414   \n",
       "\n",
       "       animal_guid  vernacularname            scientificname  aphiaid     tsn  \\\n",
       "0  nepCCSCCS-42441  Chinook salmon  Oncorhynchus tshawytscha   158075  161980   \n",
       "1  nepCCSCCS-42437  Chinook salmon  Oncorhynchus tshawytscha   158075  161980   \n",
       "2  nepCCSCCS-42412  Chinook salmon  Oncorhynchus tshawytscha   158075  161980   \n",
       "3  nepCCSCCS-42421  Chinook salmon  Oncorhynchus tshawytscha   158075  161980   \n",
       "4  nepCCSCCS-42414  Chinook salmon  Oncorhynchus tshawytscha   158075  161980   \n",
       "\n",
       "  animal_origin   stock  length length_type   weight life_stage  age sex  \n",
       "0             H  CHILKO   0.107        FORK  0.01215   JUVENILE  1.0   U  \n",
       "1             H  CHILKO   0.108        FORK  0.01225   JUVENILE  1.0   U  \n",
       "2             H  CHILKO   0.104        FORK  0.01225   JUVENILE  1.0   U  \n",
       "3             H  CHILKO   0.109        FORK  0.01226   JUVENILE  1.0   U  \n",
       "4             H  CHILKO   0.107        FORK  0.01238   JUVENILE  1.0   U  "
      ]
     },
     "execution_count": 150,
     "metadata": {},
     "output_type": "execute_result"
    }
   ],
   "source": [
    "animals.head()"
   ]
  },
  {
   "cell_type": "code",
   "execution_count": 151,
   "metadata": {},
   "outputs": [
    {
     "data": {
      "text/plain": [
       "<matplotlib.axes._subplots.AxesSubplot at 0x29756578908>"
      ]
     },
     "execution_count": 151,
     "metadata": {},
     "output_type": "execute_result"
    },
    {
     "data": {
      "image/png": "[encoded data removed]",
      "text/plain": [
       "<Figure size 432x288 with 1 Axes>"
      ]
     },
     "metadata": {
      "needs_background": "light"
     },
     "output_type": "display_data"
    }
   ],
   "source": [
    "sns.boxplot(x='life_stage', y='length', data=animals) "
   ]
  },
  {
   "cell_type": "code",
   "execution_count": 152,
   "metadata": {},
   "outputs": [
    {
     "data": {
      "text/plain": [
       "FORK              3649\n",
       "CARAPACE WIDTH      30\n",
       "TL                  14\n",
       "Name: length_type, dtype: int64"
      ]
     },
     "execution_count": 152,
     "metadata": {},
     "output_type": "execute_result"
    }
   ],
   "source": [
    "animals['length_type'].value_counts()"
   ]
  },
  {
   "cell_type": "code",
   "execution_count": 153,
   "metadata": {},
   "outputs": [],
   "source": [
    "animals.loc[animals['length_type'].isnull(), ['length_type']] = \"FORK\""
   ]
  },
  {
   "cell_type": "code",
   "execution_count": 154,
   "metadata": {},
   "outputs": [
    {
     "data": {
      "text/plain": [
       "FORK              3765\n",
       "CARAPACE WIDTH      30\n",
       "TL                  14\n",
       "Name: length_type, dtype: int64"
      ]
     },
     "execution_count": 154,
     "metadata": {},
     "output_type": "execute_result"
    }
   ],
   "source": [
    "animals['length_type'].value_counts()"
   ]
  },
  {
   "cell_type": "code",
   "execution_count": 156,
   "metadata": {},
   "outputs": [
    {
     "data": {
      "text/plain": [
       "0"
      ]
     },
     "execution_count": 156,
     "metadata": {},
     "output_type": "execute_result"
    }
   ],
   "source": [
    "len(animals[animals['length_type'].isnull()]['length_type'])"
   ]
  },
  {
   "cell_type": "code",
   "execution_count": 157,
   "metadata": {},
   "outputs": [
    {
     "data": {
      "text/plain": [
       "<matplotlib.axes._subplots.AxesSubplot at 0x29757612248>"
      ]
     },
     "execution_count": 157,
     "metadata": {},
     "output_type": "execute_result"
    },
    {
     "data": {
      "image/png": "[encoded data removed]",
      "text/plain": [
       "<Figure size 432x288 with 1 Axes>"
      ]
     },
     "metadata": {
      "needs_background": "light"
     },
     "output_type": "display_data"
    }
   ],
   "source": [
    "sns.countplot(x='life_stage', data=animals)"
   ]
  },
  {
   "cell_type": "code",
   "execution_count": 158,
   "metadata": {},
   "outputs": [],
   "source": [
    "animals.loc[animals['life_stage'].isnull(), ['life_stage']] = \"JUVENILE\""
   ]
  },
  {
   "cell_type": "code",
   "execution_count": 159,
   "metadata": {},
   "outputs": [
    {
     "data": {
      "text/plain": [
       "<matplotlib.axes._subplots.AxesSubplot at 0x29757658488>"
      ]
     },
     "execution_count": 159,
     "metadata": {},
     "output_type": "execute_result"
    },
    {
     "data": {
      "image/png": "[encoded data removed]",
      "text/plain": [
       "<Figure size 432x288 with 1 Axes>"
      ]
     },
     "metadata": {
      "needs_background": "light"
     },
     "output_type": "display_data"
    }
   ],
   "source": [
    "sns.boxplot(x='life_stage', y='length', data=animals)"
   ]
  },
  {
   "cell_type": "code",
   "execution_count": 160,
   "metadata": {},
   "outputs": [],
   "source": [
    "def compute_length(cols):\n",
    "    Length = cols[0]\n",
    "    LifeStage = cols[1]\n",
    "    \n",
    "    if pd.isnull(Length):\n",
    "        \n",
    "        if LifeStage == \"JUVENILE\":\n",
    "            return 0.15\n",
    "        \n",
    "        elif LifeStage == \"SMOLT\":\n",
    "            return 0.25\n",
    "        \n",
    "        elif LifeStage == \"ADULT\":\n",
    "            return 0.75\n",
    "        \n",
    "        else:\n",
    "            return 1.65\n",
    "    \n",
    "    else:\n",
    "        return Length        "
   ]
  },
  {
   "cell_type": "code",
   "execution_count": 161,
   "metadata": {},
   "outputs": [],
   "source": [
    "animals['length'] = animals[['length','life_stage']].apply(compute_length, axis=1)"
   ]
  },
  {
   "cell_type": "code",
   "execution_count": 162,
   "metadata": {},
   "outputs": [
    {
     "data": {
      "text/plain": [
       "<matplotlib.axes._subplots.AxesSubplot at 0x2975779c3c8>"
      ]
     },
     "execution_count": 162,
     "metadata": {},
     "output_type": "execute_result"
    },
    {
     "data": {
      "image/png": "[encoded data removed]",
      "text/plain": [
       "<Figure size 432x288 with 1 Axes>"
      ]
     },
     "metadata": {
      "needs_background": "light"
     },
     "output_type": "display_data"
    }
   ],
   "source": [
    "sns.boxplot(x='age', y='weight', data=animals)"
   ]
  },
  {
   "cell_type": "code",
   "execution_count": 163,
   "metadata": {},
   "outputs": [],
   "source": [
    "def compute_weight(cols):\n",
    "    Weight = cols[0]\n",
    "    Age = cols[1]\n",
    "    \n",
    "    if pd.isnull(Weight):\n",
    "        \n",
    "        if Age == 1.0:\n",
    "            return 0.02\n",
    "        \n",
    "        else:\n",
    "            return 0.08\n",
    "    \n",
    "    else:\n",
    "        return Weight        "
   ]
  },
  {
   "cell_type": "code",
   "execution_count": 164,
   "metadata": {},
   "outputs": [],
   "source": [
    "animals['weight'] = animals[['weight','age']].apply(compute_length, axis=1)"
   ]
  },
  {
   "cell_type": "code",
   "execution_count": 165,
   "metadata": {},
   "outputs": [
    {
     "data": {
      "text/plain": [
       "<matplotlib.axes._subplots.AxesSubplot at 0x29757823c48>"
      ]
     },
     "execution_count": 165,
     "metadata": {},
     "output_type": "execute_result"
    },
    {
     "data": {
      "image/png": "[encoded data removed]",
      "text/plain": [
       "<Figure size 432x288 with 1 Axes>"
      ]
     },
     "metadata": {
      "needs_background": "light"
     },
     "output_type": "display_data"
    }
   ],
   "source": [
    "sns.countplot(x='age', data=animals)"
   ]
  },
  {
   "cell_type": "code",
   "execution_count": 166,
   "metadata": {},
   "outputs": [],
   "source": [
    "animals.loc[animals['age'].isnull(), ['age']] = np.mean(animals['age'])"
   ]
  },
  {
   "cell_type": "code",
   "execution_count": 168,
   "metadata": {},
   "outputs": [],
   "source": [
    "animals.to_csv('Animal.csv', index=False)"
   ]
  },
  {
   "cell_type": "code",
   "execution_count": null,
   "metadata": {},
   "outputs": [],
   "source": []
  }
 ],
 "metadata": {
  "kernelspec": {
   "display_name": "Python 3",
   "language": "python",
   "name": "python3"
  },
  "language_info": {
   "codemirror_mode": {
    "name": "ipython",
    "version": 3
   },
   "file_extension": ".py",
   "mimetype": "text/x-python",
   "name": "python",
   "nbconvert_exporter": "python",
   "pygments_lexer": "ipython3",
   "version": "3.7.6"
  }
 },
 "nbformat": 4,
 "nbformat_minor": 4
}
